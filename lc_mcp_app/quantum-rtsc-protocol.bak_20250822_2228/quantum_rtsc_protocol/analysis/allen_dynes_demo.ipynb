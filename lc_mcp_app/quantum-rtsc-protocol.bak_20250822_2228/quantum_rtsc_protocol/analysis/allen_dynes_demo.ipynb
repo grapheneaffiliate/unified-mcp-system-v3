{
 "cells": [
  {
   "cell_type": "markdown",
   "metadata": {},
   "source": [
    "# Allen-Dynes (Eliashberg) Tc Calculator\n",
    "\n",
    "This notebook provides an interactive demonstration of the Allen-Dynes equation, which is a cornerstone of Eliashberg theory for strong-coupling superconductors. It allows you to calculate the superconducting critical temperature (Tc) based on key material parameters:\n",
    "\n",
    "- **ω_log**: The logarithmic average phonon frequency (in meV)\n",
    "- **λ_eff**: The effective electron-phonon coupling constant\n",
    "- **μ***: The Coulomb pseudopotential\n",
    "- **f_ω**: A strong-coupling spectral weight factor (typically > 1)\n",
    "\n",
    "The equation is:\n",
    "\n",
    "$$ T_c = \\frac{\\omega_{\\log}}{1.2} \\exp\\left( -\\frac{1.04(1+\\lambda_{\\rm eff})}{\\lambda_{\\rm eff} - \\mu^*(1+0.62\\lambda_{\\rm eff})} \\right) f_\\omega $$"
   ]
  },
  {
   "cell_type": "code",
   "execution_count": null,
   "metadata": {},
   "outputs": [],
   "source": [
    "import numpy as np\n",
    "\n",
    "def calculate_tc(omega_log_mev, lambda_eff, mu_star, f_omega=1.0):\n",
    "    \"\"\"\n",
    "    Calculates Tc using the Allen-Dynes (Eliashberg) formula.\n",
    "    \n",
    "    Args:\n",
    "        omega_log_mev (float): Logarithmic average phonon frequency in meV.\n",
    "        lambda_eff (float): Effective electron-phonon coupling constant.\n",
    "        mu_star (float): Coulomb pseudopotential.\n",
    "        f_omega (float, optional): Strong-coupling spectral weight factor. Defaults to 1.0.\n",
    "        \n",
    "    Returns:\n",
    "        float: The calculated critical temperature (Tc) in Kelvin.\n",
    "    \"\"\"\n",
    "    # Constants\n",
    "    K_PER_MEV = 11.6045  # Conversion factor from meV to Kelvin\n",
    "    \n",
    "    # Convert omega_log from meV to Kelvin\n",
    "    omega_log_K = omega_log_mev * K_PER_MEV\n",
    "    \n",
    "    # Calculate the numerator and denominator of the exponent\n",
    "    numerator = 1.04 * (1 + lambda_eff)\n",
    "    denominator = lambda_eff - mu_star * (1 + 0.62 * lambda_eff)\n",
    "    \n",
    "    if denominator <= 0:\n",
    "        return 0  # No superconductivity if the denominator is not positive\n",
    "    \n",
    "    # Calculate the base Tc\n",
    "    exponent = -numerator / denominator\n",
    "    tc_base = (omega_log_K / 1.2) * np.exp(exponent)\n",
    "    \n",
    "    # Apply the strong-coupling factor\n",
    "    tc_final = tc_base * f_omega\n",
    "    \n",
    "    return tc_final"
   ]
  },
  {
   "cell_type": "markdown",
   "metadata": {},
   "source": [
    "## Boundary Tuple Calculation\n",
    "\n",
    "Here, we test the boundary tuple targeted by the RTSC protocol: `(ω_log, μ*, λ_eff) = (120 meV, 0.12, 2.5)`."
   ]
  },
  {
   "cell_type": "code",
   "execution_count": null,
   "metadata": {},
   "outputs": [],
   "source": [
    "# Boundary parameters\n",
    "omega_log_boundary = 120  # meV\n",
    "lambda_eff_boundary = 2.5\n",
    "mu_star_boundary = 0.12\n",
    "f_omega_boundary = 1.35\n",
    "\n",
    "# Calculate Tc\n",
    "tc_boundary = calculate_tc(omega_log_boundary, lambda_eff_boundary, mu_star_boundary, f_omega_boundary)\n",
    "\n",
    "print(f\"Boundary Tuple Calculation:\")\n",
    "print(f\"  Parameters: ω_log = {omega_log_boundary} meV, λ_eff = {lambda_eff_boundary}, μ* = {mu_star_boundary}, f_ω = {f_omega_boundary}\")\n",
    "print(f\"  Calculated Tc: {tc_boundary:.2f} K\")"
   ]
  },
  {
   "cell_type": "markdown",
   "metadata": {},
   "source": [
    "## Monotonicity Check\n",
    "\n",
    "Now, we test a slightly stronger set of parameters to check for monotonicity: `(ω_log, μ*, λ_eff) = (135 meV, 0.10, 2.7)`."
   ]
  },
  {
   "cell_type": "code",
   "execution_count": null,
   "metadata": {},
   "outputs": [],
   "source": [
    "# Stronger parameters\n",
    "omega_log_stronger = 135  # meV\n",
    "lambda_eff_stronger = 2.7\n",
    "mu_star_stronger = 0.10\n",
    "f_omega_stronger = 1.19\n",
    "\n",
    "# Calculate Tc\n",
    "tc_stronger = calculate_tc(omega_log_stronger, lambda_eff_stronger, mu_star_stronger, f_omega_stronger)\n",
    "\n",
    "print(f\"\\nMonotonicity Check:\")\n",
    "print(f\"  Parameters: ω_log = {omega_log_stronger} meV, λ_eff = {lambda_eff_stronger}, μ* = {mu_star_stronger}, f_ω = {f_omega_stronger}\")\n",
    "print(f\"  Calculated Tc: {tc_stronger:.2f} K\")"
   ]
  }
 ],
 "metadata": {
  "kernelspec": {
   "display_name": "Python 3",
   "language": "python",
   "name": "python3"
  },
  "language_info": {
   "codemirror_mode": {
    "name": "ipython",
    "version": 3
   },
   "file_extension": ".py",
   "mimetype": "text/x-python",
   "name": "python",
   "nbconvert_exporter": "python",
   "pygments_lexer": "ipython3",
   "version": "3.9.7"
  }
 },
 "nbformat": 4,
 "nbformat_minor": 4
}
